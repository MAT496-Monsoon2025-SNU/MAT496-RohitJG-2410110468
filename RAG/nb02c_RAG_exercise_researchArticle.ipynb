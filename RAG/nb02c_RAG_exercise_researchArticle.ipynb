{
 "cells": [
  {
   "cell_type": "markdown",
   "id": "45867d0a",
   "metadata": {},
   "source": [
    "## RAG with Business Document Analysis"
   ]
  },
  {
   "cell_type": "code",
   "execution_count": null,
   "id": "9fa7ba87",
   "metadata": {},
   "outputs": [],
   "source": [
    "import os\n",
    "from dotenv import load_dotenv\n",
    "load_dotenv()"
   ]
  },
  {
   "cell_type": "code",
   "execution_count": null,
   "id": "d2fe9474",
   "metadata": {},
   "outputs": [],
   "source": [
    "from langchain_community.document_loaders import UnstructuredPDFLoader\n",
    "\n",
    "file_path = \".\\data\\businessReport.pdf\"\n",
    "loader = UnstructuredPDFLoader(file_path)\n",
    "docs = loader.load()"
   ]
  },
  {
   "cell_type": "code",
   "execution_count": null,
   "id": "35ebfe97",
   "metadata": {},
   "outputs": [],
   "source": [
    "# Split document into small chunks\n",
    "from langchain_text_splitters import RecursiveCharacterTextSplitter\n",
    "\n",
    "text_splitter = RecursiveCharacterTextSplitter(\n",
    "    chunk_size=1000,  # chunk size (characters)\n",
    "    chunk_overlap=200,  # chunk overlap (characters)\n",
    "    add_start_index=True,  # track index in original document\n",
    ")\n",
    "all_splits = text_splitter.split_documents(docs)\n",
    "\n",
    "# get embedding models, create vectorstore, store chunks in vectorstore\n",
    "\n",
    "from langchain_openai import OpenAIEmbeddings\n",
    "embeddings = OpenAIEmbeddings(model=\"text-embedding-3-large\")\n",
    "\n",
    "from langchain_core.vectorstores import InMemoryVectorStore\n",
    "vector_store = InMemoryVectorStore(embeddings)\n",
    "\n",
    "# adding documents in vectorstores\n",
    "document_ids = vector_store.add_documents(documents=all_splits)"
   ]
  },
  {
   "cell_type": "code",
   "execution_count": null,
   "id": "d70fbd7a",
   "metadata": {},
   "outputs": [],
   "source": [
    "all_splits"
   ]
  },
  {
   "cell_type": "code",
   "execution_count": null,
   "id": "69edec40",
   "metadata": {},
   "outputs": [],
   "source": [
    "question = \"What are the key business strategies and financial performance indicators mentioned in this report?\""
   ]
  },
  {
   "cell_type": "code",
   "execution_count": null,
   "id": "56ffc470",
   "metadata": {},
   "outputs": [],
   "source": [
    "# extract chunks which matches with your query\n",
    "search_results = vector_store.similarity_search_with_score(question, k=10)\n",
    "\n",
    "# conbine text from differrent chunks into one long string\n",
    "doc_content = \"\\n\\n\".join(doc.page_content for (doc,score) in search_results)"
   ]
  },
  {
   "cell_type": "code",
   "execution_count": null,
   "id": "d3fc42b1",
   "metadata": {},
   "outputs": [],
   "source": [
    "prompt_template = \"\"\"You are a business analyst consultant. Use the following document excerpts to provide strategic insights and analysis. Focus on key business metrics, market trends, and strategic recommendations. Keep your analysis under 500 words.\n",
    "Business Question: {question} \n",
    "Document Context: {context} \n",
    "Strategic Analysis:\"\"\"\n",
    "\n",
    "from langchain.chat_models import init_chat_model\n",
    "llm = init_chat_model(\"o1-mini\", model_provider=\"openai\")\n",
    "\n",
    "response = llm.invoke(prompt_template.format(\n",
    "    context=doc_content,\n",
    "    question=question))\n",
    "    \n",
    "print(response.content)"
   ]
  },
  {
   "cell_type": "code",
   "execution_count": null,
   "id": "93019940",
   "metadata": {},
   "outputs": [],
   "source": [
    "from IPython.display import Markdown\n",
    "Markdown(response.content)"
   ]
  },
  {
   "cell_type": "code",
   "execution_count": null,
   "id": "ad03a3ca",
   "metadata": {},
   "outputs": [],
   "source": []
  }
 ],
 "metadata": {
  "kernelspec": {
   "display_name": "langgraph-academy",
   "language": "python",
   "name": "python3"
  },
  "language_info": {
   "codemirror_mode": {
    "name": "ipython",
    "version": 3
   },
   "file_extension": ".py",
   "mimetype": "text/x-python",
   "name": "python",
   "nbconvert_exporter": "python",
   "pygments_lexer": "ipython3",
   "version": "3.11.11"
  }
 },
 "nbformat": 4,
 "nbformat_minor": 5
}
