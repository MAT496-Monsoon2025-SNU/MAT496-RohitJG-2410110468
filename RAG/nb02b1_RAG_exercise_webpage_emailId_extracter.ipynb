{
 "cells": [
  {
   "cell_type": "markdown",
   "id": "7c4e2161",
   "metadata": {},
   "source": [
    "# Example : Extract contact information from a business webpage\n",
    "\n",
    "Lets extract contact details like emails, phone numbers, and addresses from business websites - using Unstructured\n",
    "\n",
    "https://python.langchain.com/docs/integrations/document_loaders/unstructured_file/#overview"
   ]
  },
  {
   "cell_type": "code",
   "execution_count": null,
   "id": "9fa7ba87",
   "metadata": {},
   "outputs": [],
   "source": [
    "import os\n",
    "from dotenv import load_dotenv\n",
    "load_dotenv()"
   ]
  },
  {
   "cell_type": "code",
   "execution_count": null,
   "id": "6951caae",
   "metadata": {},
   "outputs": [],
   "source": [
    "from langchain_unstructured import UnstructuredLoader\n",
    "\n",
    "loader = UnstructuredLoader(web_url=\"https://csc.iitd.ac.in/contact\")\n",
    "docs = loader.load()"
   ]
  },
  {
   "cell_type": "code",
   "execution_count": null,
   "id": "eb993acd",
   "metadata": {},
   "outputs": [],
   "source": [
    "full_doc = \"\\n\\n\".join(doc.page_content for doc in docs)\n",
    "print(full_doc)"
   ]
  },
  {
   "cell_type": "markdown",
   "id": "af7d007b",
   "metadata": {},
   "source": [
    "## No need for chunking and splitted\n",
    "\n",
    "Since this is very small page, we can pass the content of the entire page as a context. No need to splitting and rerieval in this case."
   ]
  },
  {
   "cell_type": "code",
   "execution_count": null,
   "id": "69edec40",
   "metadata": {},
   "outputs": [],
   "source": [
    "question = \"Extract all email addresses and phone numbers from this contact page.\""
   ]
  },
  {
   "cell_type": "code",
   "execution_count": null,
   "id": "d3fc42b1",
   "metadata": {},
   "outputs": [],
   "source": [
    "prompt_template = \"\"\"You are a contact information extractor. Use the following webpage content to find contact details. Extract emails, phone numbers, and addresses if available. Present the information in a clear, organized format.\n",
    "Question: {question} \n",
    "Webpage Content: {context} \n",
    "Contact Information:\"\"\"\n",
    "\n",
    "from langchain.chat_models import init_chat_model\n",
    "llm = init_chat_model(\"gpt-4o-mini\", model_provider=\"openai\")\n",
    "\n",
    "response = llm.invoke(prompt_template.format(\n",
    "    context=full_doc,\n",
    "    question=question))\n",
    "    \n",
    "print(response.content)"
   ]
  },
  {
   "cell_type": "code",
   "execution_count": null,
   "id": "93019940",
   "metadata": {},
   "outputs": [],
   "source": [
    "from IPython.display import Markdown\n",
    "Markdown(response.content)"
   ]
  },
  {
   "cell_type": "code",
   "execution_count": null,
   "id": "739d9e6f",
   "metadata": {},
   "outputs": [],
   "source": [
    "prompt_template = \"\"\"You are a business directory formatter. Use the following webpage content to extract and organize contact information. The content contains contact details for various departments or offices.\n",
    "Webpage Content: {context} \n",
    "Task: Extract department names, email addresses, and phone numbers. Format the output as:\n",
    "\n",
    "**Department/Office Name**\n",
    "- Email: email@domain.com\n",
    "- Phone: +xx-xxx-xxx-xxxx\n",
    "\n",
    "\"\"\"\n",
    "\n",
    "from langchain.chat_models import init_chat_model\n",
    "llm = init_chat_model(\"gpt-4o-mini\", model_provider=\"openai\")\n",
    "\n",
    "response = llm.invoke(prompt_template.format(\n",
    "    context=full_doc,\n",
    "    question=question))\n",
    "    \n",
    "from IPython.display import Markdown\n",
    "Markdown(response.content)"
   ]
  },
  {
   "cell_type": "markdown",
   "id": "cf03dd19",
   "metadata": {},
   "source": [
    "# Exercise: Try extracting contact information from other business websites\n",
    "\n",
    "Try websites like university contact pages, company about/contact pages, or government office directories to extract emails, phone numbers, and addresses."
   ]
  },
  {
   "cell_type": "markdown",
   "id": "8bb46ebc",
   "metadata": {},
   "source": []
  }
 ],
 "metadata": {
  "kernelspec": {
   "display_name": "langgraph-academy",
   "language": "python",
   "name": "python3"
  },
  "language_info": {
   "codemirror_mode": {
    "name": "ipython",
    "version": 3
   },
   "file_extension": ".py",
   "mimetype": "text/x-python",
   "name": "python",
   "nbconvert_exporter": "python",
   "pygments_lexer": "ipython3",
   "version": "3.11.11"
  }
 },
 "nbformat": 4,
 "nbformat_minor": 5
}
