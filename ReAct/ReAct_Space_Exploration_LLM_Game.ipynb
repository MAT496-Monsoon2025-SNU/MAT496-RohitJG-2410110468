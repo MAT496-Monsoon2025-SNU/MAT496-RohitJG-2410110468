{
 "cells": [
  {
   "cell_type": "code",
   "execution_count": 5,
   "id": "e9541200",
   "metadata": {},
   "outputs": [
    {
     "data": {
      "text/plain": [
       "True"
      ]
     },
     "execution_count": 5,
     "metadata": {},
     "output_type": "execute_result"
    }
   ],
   "source": [
    "from dotenv import load_dotenv\n",
    "load_dotenv(override=True)"
   ]
  },
  {
   "cell_type": "code",
   "execution_count": 6,
   "id": "a710feac",
   "metadata": {},
   "outputs": [],
   "source": [
    "from langchain_core.tools import tool\n",
    "\n",
    "@tool\n",
    "def land_planet() -> str:\n",
    "    \"\"\" Call this tool if you want to land on a planet \"\"\"\n",
    "    return \"Landed on the planet successfully.\"\n",
    "\n",
    "\n",
    "@tool\n",
    "def scan_planet() -> str:\n",
    "    \"\"\" Call this tool if you want to scan a planet for resources \"\"\"\n",
    "    return \"Scanned the planet, found valuable resources.\"\n",
    "\n",
    "\n",
    "@tool\n",
    "def attack_alien() -> str:\n",
    "    \"\"\" Call this tool if you want to attack an alien \"\"\"\n",
    "    return \"Attacked the alien, it fought back!\"\n",
    "\n",
    "@tool\n",
    "def fly_away() -> str:\n",
    "    \"\"\" Call this tool if you want to fly away from an alien \"\"\"\n",
    "    return \"Flew away from the alien, escaped safely.\""
   ]
  },
  {
   "cell_type": "code",
   "execution_count": 7,
   "id": "8945c71c",
   "metadata": {},
   "outputs": [],
   "source": [
    "tools_list = [land_planet, scan_planet, attack_alien, fly_away]\n",
    "tools_dict = {t.name: t for t in tools_list} "
   ]
  },
  {
   "cell_type": "code",
   "execution_count": 8,
   "id": "c6cbdcb1",
   "metadata": {},
   "outputs": [],
   "source": [
    "from langgraph.prebuilt import create_react_agent\n",
    "\n",
    "\n",
    "agent = create_react_agent(\"groq:openai/gpt-oss-120b\", tools_list)"
   ]
  },
  {
   "cell_type": "code",
   "execution_count": 13,
   "id": "a024d984",
   "metadata": {},
   "outputs": [
    {
     "data": {
      "text/plain": [
       "{'messages': [HumanMessage(content='I am an astronaut exploring space. I just saw a blue planet from my spaceship. Do something i wanna go there!', additional_kwargs={}, response_metadata={}, id='a7d6d27e-47b2-4252-82f7-eb0d1d98cae9'),\n",
       "  AIMessage(content='', additional_kwargs={'reasoning_content': 'We have a user who is an astronaut, sees a blue planet, wants to go there. We have tools: land_planet, scan_planet, attack_alien, fly_away. The user wants to go to the blue planet, presumably we need to land. So we should call land_planet tool. The tool takes no arguments. Then respond with outcome.', 'tool_calls': [{'id': 'fc_c89dc629-5218-4992-9e75-0e1b95e9000a', 'function': {'arguments': '{}', 'name': 'land_planet'}, 'type': 'function'}]}, response_metadata={'token_usage': {'completion_tokens': 96, 'prompt_tokens': 219, 'total_tokens': 315, 'completion_time': 0.191053808, 'prompt_time': 0.009129235, 'queue_time': 0.049648085, 'total_time': 0.200183043}, 'model_name': 'openai/gpt-oss-120b', 'system_fingerprint': 'fp_213abb2467', 'service_tier': 'on_demand', 'finish_reason': 'tool_calls', 'logprobs': None}, id='run--e6670225-74b3-4da0-882c-064707da7cba-0', tool_calls=[{'name': 'land_planet', 'args': {}, 'id': 'fc_c89dc629-5218-4992-9e75-0e1b95e9000a', 'type': 'tool_call'}], usage_metadata={'input_tokens': 219, 'output_tokens': 96, 'total_tokens': 315}),\n",
       "  ToolMessage(content='Landed on the planet successfully.', name='land_planet', id='aa740d4a-6829-4604-b034-2337bb90ed85', tool_call_id='fc_c89dc629-5218-4992-9e75-0e1b95e9000a'),\n",
       "  AIMessage(content='You’ve touched down on the blue planet’s surface, and the view from the hatch is breathtaking.\\n\\n- **Sky:** A deep cerulean hue stretches overhead, dotted with wispy white clouds that drift lazily across the horizon. The sun hangs low, casting a soft golden‑silver glow that makes the oceans shimmer like liquid glass.\\n- **Terrain:** The ground beneath your boots is a mix of fine, powdery sand and smooth, basaltic rock. Small, bioluminescent flora flicker faintly in the dimming light, casting gentle glows of teal and violet.\\n- **Atmosphere:** The air feels crisp and breathable, with a faint scent of ozone and something sweet—perhaps a volatile organic compound released by the planet’s vegetation.\\n- **Sounds:** A gentle hum of distant waves lapping against a shoreline can be heard, mixed with the occasional chirp of unknown airborne creatures.\\n\\nYour ship’s external scanners are online and ready to give you a detailed readout of the planet’s resources, terrain composition, and any signs of life. What would you like to do next?\\n\\n- **Scan the surroundings** for minerals, water, and biosignatures?  \\n- **Step outside** and explore on foot?  \\n- **Deploy a probe** to collect samples?  \\n\\nJust let me know, and we’ll continue the adventure!', additional_kwargs={'reasoning_content': \"The user wants to go to the blue planet. We have landed. Now we should respond describing the situation, maybe ask what they'd like to do next (scan, explore). Provide immersive description.\"}, response_metadata={'token_usage': {'completion_tokens': 323, 'prompt_tokens': 249, 'total_tokens': 572, 'completion_time': 0.656923089, 'prompt_time': 0.01402273, 'queue_time': 0.070590969, 'total_time': 0.670945819}, 'model_name': 'openai/gpt-oss-120b', 'system_fingerprint': 'fp_ed9190d8b7', 'service_tier': 'on_demand', 'finish_reason': 'stop', 'logprobs': None}, id='run--7b3c97b3-c904-4659-a08a-cf0bdca84e6d-0', usage_metadata={'input_tokens': 249, 'output_tokens': 323, 'total_tokens': 572})]}"
      ]
     },
     "execution_count": 13,
     "metadata": {},
     "output_type": "execute_result"
    }
   ],
   "source": [
    "agent.invoke({\"messages\": \"I am an astronaut exploring space. I just saw a blue planet from my spaceship. Do something i wanna go there!\"})"
   ]
  },
  {
   "cell_type": "code",
   "execution_count": 14,
   "id": "7bdf9cc1",
   "metadata": {},
   "outputs": [
    {
     "data": {
      "text/plain": [
       "{'messages': [HumanMessage(content='Now that i am on the planet, i wanna know more more about this planet!', additional_kwargs={}, response_metadata={}, id='2ab9b590-7754-4370-a50c-95413ad7739b'),\n",
       "  AIMessage(content='', additional_kwargs={'reasoning_content': 'User says they are on the planet and wants to know more about it. We need to scan the planet for resources, maybe also get general info? The provided tools: land_planet (maybe to land, but they are already on planet). scan_planet to scan for resources. Could also attack alien etc. So we should call scan_planet.', 'tool_calls': [{'id': 'fc_eab7ba0c-477e-4832-b60c-efded3627b7c', 'function': {'arguments': '{\"\":{}}', 'name': 'scan_planet'}, 'type': 'function'}]}, response_metadata={'token_usage': {'completion_tokens': 97, 'prompt_tokens': 212, 'total_tokens': 309, 'completion_time': 0.192847215, 'prompt_time': 0.010502145, 'queue_time': 0.498421003, 'total_time': 0.20334936}, 'model_name': 'openai/gpt-oss-120b', 'system_fingerprint': 'fp_3a688838c3', 'service_tier': 'on_demand', 'finish_reason': 'tool_calls', 'logprobs': None}, id='run--efa2ff5b-d36a-4b94-b616-daee72e1b5ec-0', tool_calls=[{'name': 'scan_planet', 'args': {'': {}}, 'id': 'fc_eab7ba0c-477e-4832-b60c-efded3627b7c', 'type': 'tool_call'}], usage_metadata={'input_tokens': 212, 'output_tokens': 97, 'total_tokens': 309}),\n",
       "  ToolMessage(content='Scanned the planet, found valuable resources.', name='scan_planet', id='28907b77-84ed-4aa1-af31-0cd90de0c365', tool_call_id='fc_eab7ba0c-477e-4832-b60c-efded3627b7c'),\n",
       "  AIMessage(content='**Planet Overview**\\n\\n| Attribute | Details |\\n|-----------|---------|\\n| **Name** | (Unnamed – you can give it a name if you’d like) |\\n| **Classification** | Rocky terrestrial planet, similar in size to Earth (≈1.1\\u202fR⊕) |\\n| **Gravity** | ~0.95\\u202fg (slightly lighter than Earth – you’ll feel a bit more buoyant) |\\n| **Atmosphere** | Thin‑to‑moderate mix of nitrogen (≈78\\u202f%), oxygen (≈19\\u202f%), trace argon and carbon dioxide. No toxic gases detected, but the oxygen level is just below the threshold for comfortable long‑term breathing without supplemental oxygen. |\\n| **Surface Temperature** | Average 12\\u202f°C (53\\u202f°F). Day‑night swing of about ±15\\u202f°C due to a modest axial tilt (≈23°). |\\n| **Day Length** | ~26 Earth hours (a “sol” is a little longer than an Earth day). |\\n| **Weather** | Mostly clear skies with occasional low‑level cloud cover. Light wind patterns dominate the equatorial regions; storms are rare but can develop in the high‑latitude zones. |\\n| **Terrain** | • **Northern Hemisphere:** Rolling plains with scattered basaltic mesas and a network of shallow river valleys. <br>• **Equatorial Belt:** Sparse scrubland and scattered dunes of fine silicate sand. <br>• **Southern Hemisphere:** Mountainous region with peaks up to 4\\u202fkm high, composed of iron‑rich basalt and occasional quartz outcrops. |\\n| **Water** | Surface water is limited to a few seasonal lakes and a modest river system in the northern plains. Subsurface ice pockets have been detected beneath the southern mountain base. |\\n| **Magnetic Field** | Weak but present, providing modest protection from solar radiation. |\\n\\n---\\n\\n### Resources Detected by the Scan\\n\\n| Resource | Approx. Abundance | Typical Form | Potential Uses |\\n|----------|-------------------|--------------|----------------|\\n| **Iron Oxide (Fe₂O₃)** | High | Red‑brown dust and vein‑like ore deposits in the southern mountains | Metallurgy, construction steel, magnetic alloys |\\n| **Silicon Dioxide (SiO₂)** | Very High | Fine sand in the equatorial dunes; quartz veins in the plains | Glass production, solar‑cell substrates, semiconductor manufacturing |\\n| **Aluminum‑rich Bauxite** | Moderate | Layered deposits near the northern riverbanks | Lightweight alloys, aerospace components |\\n| **Rare Earth Elements (REEs)** (e.g., neodymium, dysprosium) | Low‑to‑moderate | Scattered mineral veins in basaltic rock | High‑performance magnets, electronics, renewable‑energy tech |\\n| **Water Ice** | Low (subsurface) | Frozen pockets under mountain shade | Life‑support (drinking water, oxygen generation), fuel (hydrogen/oxygen) |\\n| **Organic Molecules** | Trace | Detected in sediment samples near the river delta | Potential for bio‑research, fertilizer precursors |\\n| **Helium‑3** | Very Low (trace) | Embedded in regolith of the southern highlands | Fusion fuel (if you have the tech) |\\n\\n*Note:* The scan also flagged a **minor methane seep** near the equatorial dunes—likely a biological or geothermal source. It’s not hazardous at current concentrations but worth monitoring.\\n\\n---\\n\\n### Potential Hazards & Considerations\\n\\n1. **Low‑Oxygen Atmosphere** – While breathable for short periods, extended exposure will cause fatigue. Carry supplemental O₂ or a portable life‑support system.\\n2. **Dust Storms** – Fine silicate dust can infiltrate seals and optics. Keep equipment sealed and use dust‑repellent coatings.\\n3. **Magnetic Anomalies** – The weak magnetic field means solar flares can increase radiation temporarily. A simple radiation shield or timed “storm shelter” is advisable during solar events.\\n4. **Terrain Instability** – Some dune areas have loose, shifting sands; avoid setting up heavy structures on them without anchoring.\\n\\n---\\n\\n### Suggested Next Steps\\n\\n| Goal | Recommended Action |\\n|------|---------------------|\\n| **Resource Extraction** | Deploy a mobile mining rig to the southern mountain for iron and REE ore; set up a solar‑powered silica‑refinery near the dunes. |\\n| **Water Procurement** | Drill a shallow well in the northern river basin to tap seasonal water; consider a sub‑surface ice harvester in the southern highlands for long‑term supply. |\\n| **Habitat Construction** | Use locally sourced basalt and aluminum‑rich bauxite for building frames; coat structures with silica‑glass panels for radiation shielding. |\\n| **Scientific Research** | Collect soil samples from the methane seep and organic‑trace sites to study potential biosignatures. |\\n| **Exploration** | Map the remaining 30\\u202f% of the planet (the unexplored western ridge) using a rover or drone to locate any hidden resource veins or unique geological features. |\\n\\n---\\n\\n### Quick “Planet Fact Sheet” You Can Copy‑Paste\\n\\n```\\nPlanet Name:  (your choice)\\nClass:        Rocky Terrestrial\\nGravity:      0.95 g\\nAtmosphere:   N₂ 78%, O₂ 19%, trace gases\\nAvg Temp:     12\\u202f°C\\nDay Length:   26 hrs\\nKey Resources:\\n  • Iron Oxide – high\\n  • Silicon Dioxide – very high\\n  • Aluminum Bauxite – moderate\\n  • Rare Earth Elements – low‑to‑moderate\\n  • Subsurface Water Ice – low\\n  • Trace Organics & Methane\\nHazards: Low O₂, dust storms, weak magnetosphere\\n```\\n\\nFeel free to ask for more details on any specific resource, terrain feature, or to plan a particular operation (e.g., setting up a mining outpost, conducting a biological survey, etc.). Happy exploring!', additional_kwargs={'reasoning_content': 'The user says: \"Now that i am on the planet, i wanna know more more about this planet!\" The assistant should provide information about the planet: maybe description, resources, environment, etc. The scan gave \"found valuable resources\". We can elaborate: type of resources, atmosphere, terrain, hazards, etc. Provide a detailed description.'}, response_metadata={'token_usage': {'completion_tokens': 1316, 'prompt_tokens': 247, 'total_tokens': 1563, 'completion_time': 2.691024283, 'prompt_time': 0.010036331, 'queue_time': 0.054095998, 'total_time': 2.701060614}, 'model_name': 'openai/gpt-oss-120b', 'system_fingerprint': 'fp_3a688838c3', 'service_tier': 'on_demand', 'finish_reason': 'stop', 'logprobs': None}, id='run--d24e601d-f712-44f4-a4c8-e6bd80ab6f69-0', usage_metadata={'input_tokens': 247, 'output_tokens': 1316, 'total_tokens': 1563})]}"
      ]
     },
     "execution_count": 14,
     "metadata": {},
     "output_type": "execute_result"
    }
   ],
   "source": [
    "agent.invoke({\"messages\": \"Now that i am on the planet, i wanna know more more about this planet!\"})"
   ]
  },
  {
   "cell_type": "code",
   "execution_count": 17,
   "id": "720a50ba",
   "metadata": {},
   "outputs": [
    {
     "data": {
      "text/plain": [
       "{'messages': [HumanMessage(content='OMG I AM LOOKING AT A ALIEN CREATURE, I SHOUDL FIGHT TO SAVE ME, DO IT!', additional_kwargs={}, response_metadata={}, id='9c6ec09c-17dd-4bbf-9984-7f4b2b143010'),\n",
       "  AIMessage(content='', additional_kwargs={'reasoning_content': 'User is saying they see an alien creature and want to fight to save themselves. We have tools: attack_alien, fly_away. We need to decide what to do. The user wants to fight. So we can use attack_alien tool. Probably no parameters needed. Use the tool.', 'tool_calls': [{'id': 'fc_189cb213-21de-40a2-b57f-f65b5e3e4d7e', 'function': {'arguments': '{\"\":\"\"}', 'name': 'attack_alien'}, 'type': 'function'}]}, response_metadata={'token_usage': {'completion_tokens': 86, 'prompt_tokens': 220, 'total_tokens': 306, 'completion_time': 0.183660235, 'prompt_time': 0.010116091, 'queue_time': 0.052424609, 'total_time': 0.193776326}, 'model_name': 'openai/gpt-oss-120b', 'system_fingerprint': 'fp_213abb2467', 'service_tier': 'on_demand', 'finish_reason': 'tool_calls', 'logprobs': None}, id='run--15185003-277a-4aaf-940c-cd429a3fbdb7-0', tool_calls=[{'name': 'attack_alien', 'args': {'': ''}, 'id': 'fc_189cb213-21de-40a2-b57f-f65b5e3e4d7e', 'type': 'tool_call'}], usage_metadata={'input_tokens': 220, 'output_tokens': 86, 'total_tokens': 306}),\n",
       "  ToolMessage(content='Attacked the alien, it fought back!', name='attack_alien', id='dc5f970e-ce57-4d41-863e-e40b4bd9be8e', tool_call_id='fc_189cb213-21de-40a2-b57f-f65b5e3e4d7e'),\n",
       "  AIMessage(content='The alien snarls and lunges back at you, its many eyes flashing with hostile intent. Your attack landed a solid blow, but the creature is still standing and looks ready to retaliate.\\n\\n**What would you like to do next?**\\n\\n- **Keep fighting** – strike again or try a different attack.  \\n- **Flee** – attempt to fly away from the alien.  \\n- **Take cover** – look for something nearby to use as protection.  \\n\\nJust let me know which action you want to take, and I’ll carry it out for you!', additional_kwargs={'reasoning_content': 'The user is excited, wants to fight alien. We already attacked alien, it fought back. Probably need to respond with outcome, maybe ask if they want to continue, or we can continue attack, or suggest options: keep fighting, flee, etc. Since we already attacked, we need to give narrative. Probably ask what to do next: continue fighting, try to flee, etc.'}, response_metadata={'token_usage': {'completion_tokens': 203, 'prompt_tokens': 255, 'total_tokens': 458, 'completion_time': 0.428465433, 'prompt_time': 0.012587409, 'queue_time': 0.06140809, 'total_time': 0.441052842}, 'model_name': 'openai/gpt-oss-120b', 'system_fingerprint': 'fp_ed9190d8b7', 'service_tier': 'on_demand', 'finish_reason': 'stop', 'logprobs': None}, id='run--a1d6e3a5-5819-4839-82f7-497c17ff860b-0', usage_metadata={'input_tokens': 255, 'output_tokens': 203, 'total_tokens': 458})]}"
      ]
     },
     "execution_count": 17,
     "metadata": {},
     "output_type": "execute_result"
    }
   ],
   "source": [
    "agent.invoke({\"messages\": \"OMG I AM LOOKING AT A ALIEN CREATURE, I SHOUDL FIGHT TO SAVE ME, DO IT!\"})"
   ]
  },
  {
   "cell_type": "code",
   "execution_count": 18,
   "id": "da826ad0",
   "metadata": {},
   "outputs": [
    {
     "data": {
      "text/plain": [
       "{'messages': [HumanMessage(content='I THINK THE ALIEN IS RUNNING TOWARDS ME ANGRY, DO SOMETHING!', additional_kwargs={}, response_metadata={}, id='8073550c-d359-4ad1-999c-34a88f5909bb'),\n",
       "  AIMessage(content='', additional_kwargs={'reasoning_content': 'We need to respond. The user says alien is running towards them angry, do something. We have tools: attack_alien, fly_away. Likely best is to fly away. Could also attack. Probably safe to fly away. So we call fly_away.', 'tool_calls': [{'id': 'fc_e4ed3566-ec2a-4b60-bbe1-45dc61a69da0', 'function': {'arguments': '{\"\":{}}', 'name': 'fly_away'}, 'type': 'function'}]}, response_metadata={'token_usage': {'completion_tokens': 81, 'prompt_tokens': 216, 'total_tokens': 297, 'completion_time': 0.167728485, 'prompt_time': 0.008600134, 'queue_time': 0.052579626, 'total_time': 0.176328619}, 'model_name': 'openai/gpt-oss-120b', 'system_fingerprint': 'fp_3a688838c3', 'service_tier': 'on_demand', 'finish_reason': 'tool_calls', 'logprobs': None}, id='run--abb5e3cb-6c8c-434c-b85b-9af14d23ce4d-0', tool_calls=[{'name': 'fly_away', 'args': {'': {}}, 'id': 'fc_e4ed3566-ec2a-4b60-bbe1-45dc61a69da0', 'type': 'tool_call'}], usage_metadata={'input_tokens': 216, 'output_tokens': 81, 'total_tokens': 297}),\n",
       "  ToolMessage(content='Flew away from the alien, escaped safely.', name='fly_away', id='08dde6dc-81bd-4ece-9aaf-a119912fed86', tool_call_id='fc_e4ed3566-ec2a-4b60-bbe1-45dc61a69da0'),\n",
       "  AIMessage(content=\"The alien has been shaken off—you're now safe and have successfully flown away.  \\n\\nIs there anything else you need help with? Maybe a quick scan of the surrounding area, a plan to return, or some advice on what to do next? Let me know!\", additional_kwargs={'reasoning_content': 'User says alien is running towards them angry, do something. The assistant used fly_away tool, which presumably makes the user escape. It responded with \"Flew away from the alien, escaped safely.\" That seems appropriate. Probably need to follow up with reassurance or ask if they need further help.'}, response_metadata={'token_usage': {'completion_tokens': 123, 'prompt_tokens': 252, 'total_tokens': 375, 'completion_time': 0.244889362, 'prompt_time': 0.012197187, 'queue_time': 0.055668533, 'total_time': 0.257086549}, 'model_name': 'openai/gpt-oss-120b', 'system_fingerprint': 'fp_3a688838c3', 'service_tier': 'on_demand', 'finish_reason': 'stop', 'logprobs': None}, id='run--af03b233-5caa-4160-9195-3a492ce4ed32-0', usage_metadata={'input_tokens': 252, 'output_tokens': 123, 'total_tokens': 375})]}"
      ]
     },
     "execution_count": 18,
     "metadata": {},
     "output_type": "execute_result"
    }
   ],
   "source": [
    "agent.invoke({\"messages\": \"I THINK THE ALIEN IS RUNNING TOWARDS ME ANGRY, DO SOMETHING!\"})"
   ]
  }
 ],
 "metadata": {
  "kernelspec": {
   "display_name": ".venv",
   "language": "python",
   "name": "python3"
  },
  "language_info": {
   "codemirror_mode": {
    "name": "ipython",
    "version": 3
   },
   "file_extension": ".py",
   "mimetype": "text/x-python",
   "name": "python",
   "nbconvert_exporter": "python",
   "pygments_lexer": "ipython3",
   "version": "3.9.6"
  }
 },
 "nbformat": 4,
 "nbformat_minor": 5
}
