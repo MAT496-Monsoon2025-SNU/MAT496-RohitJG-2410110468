{
 "cells": [
  {
   "cell_type": "code",
   "execution_count": 8,
   "id": "e9541200",
   "metadata": {},
   "outputs": [
    {
     "data": {
      "text/plain": [
       "True"
      ]
     },
     "execution_count": 8,
     "metadata": {},
     "output_type": "execute_result"
    }
   ],
   "source": [
    "from dotenv import load_dotenv\n",
    "load_dotenv(override=True)"
   ]
  },
  {
   "cell_type": "code",
   "execution_count": 2,
   "id": "a710feac",
   "metadata": {},
   "outputs": [
    {
     "name": "stderr",
     "output_type": "stream",
     "text": [
      "/Users/rohitjg/Desktop/code/MAT496/.venv/lib/python3.9/site-packages/urllib3/__init__.py:35: NotOpenSSLWarning: urllib3 v2 only supports OpenSSL 1.1.1+, currently the 'ssl' module is compiled with 'LibreSSL 2.8.3'. See: https://github.com/urllib3/urllib3/issues/3020\n",
      "  warnings.warn(\n"
     ]
    }
   ],
   "source": [
    "from langchain_core.tools import tool\n",
    "\n",
    "@tool\n",
    "def laugh() -> str:\n",
    "    \"\"\" Call this tool if the mood is funny\"\"\"\n",
    "    return \"HAHAHAHAHAH\"\n",
    "\n",
    "\n",
    "@tool\n",
    "def sad() -> str:\n",
    "    \"\"\" Call this tool if you want to show sad, depressed, or negative feelings\"\"\"\n",
    "    return \"I am sad\"\n",
    "\n",
    "\n",
    "@tool\n",
    "def happy() -> str:\n",
    "    \"\"\" Call this tool if you want to show happiness or positive feeling\"\"\"\n",
    "    return \"I am happy\"\n"
   ]
  },
  {
   "cell_type": "code",
   "execution_count": 3,
   "id": "8945c71c",
   "metadata": {},
   "outputs": [],
   "source": [
    "tools_list = [laugh, sad, happy ]\n",
    "tools_dict = {t.name: t for t in tools_list} "
   ]
  },
  {
   "cell_type": "code",
   "execution_count": 5,
   "id": "7afb9ac5",
   "metadata": {},
   "outputs": [
    {
     "name": "stdout",
     "output_type": "stream",
     "text": [
      "Collecting langgraph\n",
      "  Downloading langgraph-0.6.7-py3-none-any.whl.metadata (6.8 kB)\n",
      "Requirement already satisfied: langchain-core>=0.1 in /Users/rohitjg/Desktop/code/MAT496/.venv/lib/python3.9/site-packages (from langgraph) (0.3.76)\n",
      "Collecting langgraph-checkpoint<3.0.0,>=2.1.0 (from langgraph)\n",
      "  Downloading langgraph_checkpoint-2.1.1-py3-none-any.whl.metadata (4.2 kB)\n",
      "Collecting langgraph-prebuilt<0.7.0,>=0.6.0 (from langgraph)\n",
      "  Downloading langgraph_prebuilt-0.6.4-py3-none-any.whl.metadata (4.5 kB)\n",
      "Collecting langgraph-sdk<0.3.0,>=0.2.2 (from langgraph)\n",
      "  Downloading langgraph_sdk-0.2.9-py3-none-any.whl.metadata (1.5 kB)\n",
      "Requirement already satisfied: pydantic>=2.7.4 in /Users/rohitjg/Desktop/code/MAT496/.venv/lib/python3.9/site-packages (from langgraph) (2.11.9)\n",
      "Collecting xxhash>=3.5.0 (from langgraph)\n",
      "  Downloading xxhash-3.5.0-cp39-cp39-macosx_11_0_arm64.whl.metadata (12 kB)\n",
      "Collecting ormsgpack>=1.10.0 (from langgraph-checkpoint<3.0.0,>=2.1.0->langgraph)\n",
      "  Downloading ormsgpack-1.10.0-cp39-cp39-macosx_10_12_x86_64.macosx_11_0_arm64.macosx_10_12_universal2.whl.metadata (43 kB)\n",
      "Requirement already satisfied: httpx>=0.25.2 in /Users/rohitjg/Desktop/code/MAT496/.venv/lib/python3.9/site-packages (from langgraph-sdk<0.3.0,>=0.2.2->langgraph) (0.28.1)\n",
      "Requirement already satisfied: orjson>=3.10.1 in /Users/rohitjg/Desktop/code/MAT496/.venv/lib/python3.9/site-packages (from langgraph-sdk<0.3.0,>=0.2.2->langgraph) (3.11.3)\n",
      "Requirement already satisfied: anyio in /Users/rohitjg/Desktop/code/MAT496/.venv/lib/python3.9/site-packages (from httpx>=0.25.2->langgraph-sdk<0.3.0,>=0.2.2->langgraph) (4.10.0)\n",
      "Requirement already satisfied: certifi in /Users/rohitjg/Desktop/code/MAT496/.venv/lib/python3.9/site-packages (from httpx>=0.25.2->langgraph-sdk<0.3.0,>=0.2.2->langgraph) (2025.8.3)\n",
      "Requirement already satisfied: httpcore==1.* in /Users/rohitjg/Desktop/code/MAT496/.venv/lib/python3.9/site-packages (from httpx>=0.25.2->langgraph-sdk<0.3.0,>=0.2.2->langgraph) (1.0.9)\n",
      "Requirement already satisfied: idna in /Users/rohitjg/Desktop/code/MAT496/.venv/lib/python3.9/site-packages (from httpx>=0.25.2->langgraph-sdk<0.3.0,>=0.2.2->langgraph) (3.10)\n",
      "Requirement already satisfied: h11>=0.16 in /Users/rohitjg/Desktop/code/MAT496/.venv/lib/python3.9/site-packages (from httpcore==1.*->httpx>=0.25.2->langgraph-sdk<0.3.0,>=0.2.2->langgraph) (0.16.0)\n",
      "Requirement already satisfied: langsmith>=0.3.45 in /Users/rohitjg/Desktop/code/MAT496/.venv/lib/python3.9/site-packages (from langchain-core>=0.1->langgraph) (0.4.28)\n",
      "Requirement already satisfied: tenacity!=8.4.0,<10.0.0,>=8.1.0 in /Users/rohitjg/Desktop/code/MAT496/.venv/lib/python3.9/site-packages (from langchain-core>=0.1->langgraph) (9.1.2)\n",
      "Requirement already satisfied: jsonpatch<2.0,>=1.33 in /Users/rohitjg/Desktop/code/MAT496/.venv/lib/python3.9/site-packages (from langchain-core>=0.1->langgraph) (1.33)\n",
      "Requirement already satisfied: PyYAML>=5.3 in /Users/rohitjg/Desktop/code/MAT496/.venv/lib/python3.9/site-packages (from langchain-core>=0.1->langgraph) (6.0.2)\n",
      "Requirement already satisfied: typing-extensions>=4.7 in /Users/rohitjg/Desktop/code/MAT496/.venv/lib/python3.9/site-packages (from langchain-core>=0.1->langgraph) (4.15.0)\n",
      "Requirement already satisfied: packaging>=23.2 in /Users/rohitjg/Desktop/code/MAT496/.venv/lib/python3.9/site-packages (from langchain-core>=0.1->langgraph) (25.0)\n",
      "Requirement already satisfied: jsonpointer>=1.9 in /Users/rohitjg/Desktop/code/MAT496/.venv/lib/python3.9/site-packages (from jsonpatch<2.0,>=1.33->langchain-core>=0.1->langgraph) (3.0.0)\n",
      "Requirement already satisfied: requests-toolbelt>=1.0.0 in /Users/rohitjg/Desktop/code/MAT496/.venv/lib/python3.9/site-packages (from langsmith>=0.3.45->langchain-core>=0.1->langgraph) (1.0.0)\n",
      "Requirement already satisfied: requests>=2.0.0 in /Users/rohitjg/Desktop/code/MAT496/.venv/lib/python3.9/site-packages (from langsmith>=0.3.45->langchain-core>=0.1->langgraph) (2.32.5)\n",
      "Requirement already satisfied: zstandard>=0.23.0 in /Users/rohitjg/Desktop/code/MAT496/.venv/lib/python3.9/site-packages (from langsmith>=0.3.45->langchain-core>=0.1->langgraph) (0.25.0)\n",
      "Requirement already satisfied: annotated-types>=0.6.0 in /Users/rohitjg/Desktop/code/MAT496/.venv/lib/python3.9/site-packages (from pydantic>=2.7.4->langgraph) (0.7.0)\n",
      "Requirement already satisfied: pydantic-core==2.33.2 in /Users/rohitjg/Desktop/code/MAT496/.venv/lib/python3.9/site-packages (from pydantic>=2.7.4->langgraph) (2.33.2)\n",
      "Requirement already satisfied: typing-inspection>=0.4.0 in /Users/rohitjg/Desktop/code/MAT496/.venv/lib/python3.9/site-packages (from pydantic>=2.7.4->langgraph) (0.4.1)\n",
      "Requirement already satisfied: charset_normalizer<4,>=2 in /Users/rohitjg/Desktop/code/MAT496/.venv/lib/python3.9/site-packages (from requests>=2.0.0->langsmith>=0.3.45->langchain-core>=0.1->langgraph) (3.4.3)\n",
      "Requirement already satisfied: urllib3<3,>=1.21.1 in /Users/rohitjg/Desktop/code/MAT496/.venv/lib/python3.9/site-packages (from requests>=2.0.0->langsmith>=0.3.45->langchain-core>=0.1->langgraph) (2.5.0)\n",
      "Requirement already satisfied: exceptiongroup>=1.0.2 in /Users/rohitjg/Desktop/code/MAT496/.venv/lib/python3.9/site-packages (from anyio->httpx>=0.25.2->langgraph-sdk<0.3.0,>=0.2.2->langgraph) (1.3.0)\n",
      "Requirement already satisfied: sniffio>=1.1 in /Users/rohitjg/Desktop/code/MAT496/.venv/lib/python3.9/site-packages (from anyio->httpx>=0.25.2->langgraph-sdk<0.3.0,>=0.2.2->langgraph) (1.3.1)\n",
      "Downloading langgraph-0.6.7-py3-none-any.whl (153 kB)\n",
      "Downloading langgraph_checkpoint-2.1.1-py3-none-any.whl (43 kB)\n",
      "Downloading langgraph_prebuilt-0.6.4-py3-none-any.whl (28 kB)\n",
      "Downloading langgraph_sdk-0.2.9-py3-none-any.whl (56 kB)\n",
      "Downloading ormsgpack-1.10.0-cp39-cp39-macosx_10_12_x86_64.macosx_11_0_arm64.macosx_10_12_universal2.whl (376 kB)\n",
      "Downloading xxhash-3.5.0-cp39-cp39-macosx_11_0_arm64.whl (30 kB)\n",
      "Installing collected packages: xxhash, ormsgpack, langgraph-sdk, langgraph-checkpoint, langgraph-prebuilt, langgraph\n",
      "\u001b[2K   \u001b[90m━━━━━━━━━━━━━━━━━━━━━━━━━━━━━━━━━━━━━━━━\u001b[0m \u001b[32m6/6\u001b[0m [langgraph]/6\u001b[0m [langgraph]\n",
      "\u001b[1A\u001b[2KSuccessfully installed langgraph-0.6.7 langgraph-checkpoint-2.1.1 langgraph-prebuilt-0.6.4 langgraph-sdk-0.2.9 ormsgpack-1.10.0 xxhash-3.5.0\n"
     ]
    }
   ],
   "source": [
    "!pip install langgraph"
   ]
  },
  {
   "cell_type": "code",
   "execution_count": 9,
   "id": "c6cbdcb1",
   "metadata": {},
   "outputs": [],
   "source": [
    "from langgraph.prebuilt import create_react_agent\n",
    "\n",
    "\n",
    "agent = create_react_agent(\"groq:openai/gpt-oss-120b\", tools_list)"
   ]
  },
  {
   "cell_type": "code",
   "execution_count": 10,
   "id": "a024d984",
   "metadata": {},
   "outputs": [
    {
     "data": {
      "text/plain": [
       "{'messages': [HumanMessage(content='Life is mean.', additional_kwargs={}, response_metadata={}, id='bc456357-023d-4da5-9c8d-f6c576af4d32'),\n",
       "  AIMessage(content='', additional_kwargs={'reasoning_content': 'The user says \"Life is mean.\" This is a negative statement. The user might be expressing sadness or negativity. We should respond with empathy, supportive tone. Possibly use the sad tool to show sadness. The tool is \"sad\". Use it.', 'tool_calls': [{'id': 'fc_dc084e19-f3b7-474c-909c-d4502e8f5b1f', 'function': {'arguments': '{}', 'name': 'sad'}, 'type': 'function'}]}, response_metadata={'token_usage': {'completion_tokens': 70, 'prompt_tokens': 170, 'total_tokens': 240, 'completion_time': 0.14927184, 'prompt_time': 0.007069947, 'queue_time': 0.051661443, 'total_time': 0.156341787}, 'model_name': 'openai/gpt-oss-120b', 'system_fingerprint': 'fp_82669fd91d', 'service_tier': 'on_demand', 'finish_reason': 'tool_calls', 'logprobs': None}, id='run--71ff51fe-1f7d-4d34-bd7a-be4e5f11660b-0', tool_calls=[{'name': 'sad', 'args': {}, 'id': 'fc_dc084e19-f3b7-474c-909c-d4502e8f5b1f', 'type': 'tool_call'}], usage_metadata={'input_tokens': 170, 'output_tokens': 70, 'total_tokens': 240}),\n",
       "  ToolMessage(content='I am sad', name='sad', id='93081a56-6c7f-419b-82be-631f11680524', tool_call_id='fc_dc084e19-f3b7-474c-909c-d4502e8f5b1f'),\n",
       "  AIMessage(content='I’m really sorry you’re feeling that way.\\u202fIt can be incredibly tough when life seems harsh or unkind, and it’s okay to feel upset, frustrated, or even defeated. If you’d like to talk more about what’s weighing on you, I’m here to listen. Sometimes sharing what’s going on—whether it’s a specific situation, a series of setbacks, or just a lingering sense of heaviness—can help lighten the load a bit.\\n\\nIf you ever feel like you need a bit more support, consider reaching out to someone you trust—a friend, family member, or a counselor. Professional help, such as a therapist or a support line, can provide a safe space to work through these feelings and find strategies for coping.\\n\\nYou don’t have to face the “mean” moments alone. Even small steps—like taking a short walk, writing down what’s on your mind, or doing something you enjoy for a few minutes—can create tiny pockets of relief. Remember, it’s okay to ask for help, and it’s okay to give yourself grace while you navigate through this. If there’s anything specific you want to discuss or any way I can support you right now, just let me know.', additional_kwargs={'reasoning_content': 'User says \"Life is mean.\" They express negative sentiment. The assistant should respond empathetically, possibly offering support, acknowledging feelings, maybe providing encouragement or resources. Should be kind. No tool needed beyond the sad expression already used. Provide a supportive response.'}, response_metadata={'token_usage': {'completion_tokens': 308, 'prompt_tokens': 193, 'total_tokens': 501, 'completion_time': 0.631169711, 'prompt_time': 0.00806185, 'queue_time': 0.05349702, 'total_time': 0.639231561}, 'model_name': 'openai/gpt-oss-120b', 'system_fingerprint': 'fp_ed9190d8b7', 'service_tier': 'on_demand', 'finish_reason': 'stop', 'logprobs': None}, id='run--74dccee0-11e3-46a6-8576-4e750bbb84c2-0', usage_metadata={'input_tokens': 193, 'output_tokens': 308, 'total_tokens': 501})]}"
      ]
     },
     "execution_count": 10,
     "metadata": {},
     "output_type": "execute_result"
    }
   ],
   "source": [
    "agent.invoke({\"messages\": \"Life is mean.\"})"
   ]
  },
  {
   "cell_type": "code",
   "execution_count": null,
   "id": "7bdf9cc1",
   "metadata": {},
   "outputs": [],
   "source": []
  }
 ],
 "metadata": {
  "kernelspec": {
   "display_name": ".venv",
   "language": "python",
   "name": "python3"
  },
  "language_info": {
   "codemirror_mode": {
    "name": "ipython",
    "version": 3
   },
   "file_extension": ".py",
   "mimetype": "text/x-python",
   "name": "python",
   "nbconvert_exporter": "python",
   "pygments_lexer": "ipython3",
   "version": "3.9.6"
  }
 },
 "nbformat": 4,
 "nbformat_minor": 5
}
