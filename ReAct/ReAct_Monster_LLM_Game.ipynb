{
 "cells": [
  {
   "cell_type": "code",
   "execution_count": 2,
   "id": "e9541200",
   "metadata": {},
   "outputs": [
    {
     "data": {
      "text/plain": [
       "True"
      ]
     },
     "execution_count": 2,
     "metadata": {},
     "output_type": "execute_result"
    }
   ],
   "source": [
    "from dotenv import load_dotenv\n",
    "load_dotenv(override=True)"
   ]
  },
  {
   "cell_type": "code",
   "execution_count": 14,
   "id": "a710feac",
   "metadata": {},
   "outputs": [],
   "source": [
    "from langchain_core.tools import tool\n",
    "\n",
    "@tool\n",
    "def attack() -> str:\n",
    "    \"\"\" Call this tool if you want to attack or show aggressive feelings \"\"\"\n",
    "    return \"Attacked the monster, monster got weak!\"\n",
    "\n",
    "\n",
    "@tool\n",
    "def defend() -> str:\n",
    "    \"\"\" Call this tool if you want to defend or show sad feelings\"\"\"\n",
    "    return \"Defended yourself, monster missed the attack!\"\n",
    "\n",
    "\n",
    "@tool\n",
    "def heal() -> str:\n",
    "    \"\"\" Call this tool if you want to heal or show positive feelings\"\"\"\n",
    "    return \"Healed yourself, you feel stronger!\"\n",
    "\n",
    "@tool\n",
    "def run_away() -> str:\n",
    "    \"\"\" Call this tool if you want to run away or show fearful feelings\"\"\"\n",
    "    return \"Ran away from the monster\""
   ]
  },
  {
   "cell_type": "code",
   "execution_count": 15,
   "id": "8945c71c",
   "metadata": {},
   "outputs": [],
   "source": [
    "tools_list = [attack, defend, heal, run_away]\n",
    "tools_dict = {t.name: t for t in tools_list} "
   ]
  },
  {
   "cell_type": "code",
   "execution_count": 16,
   "id": "c6cbdcb1",
   "metadata": {},
   "outputs": [],
   "source": [
    "from langgraph.prebuilt import create_react_agent\n",
    "\n",
    "\n",
    "agent = create_react_agent(\"groq:openai/gpt-oss-120b\", tools_list)"
   ]
  },
  {
   "cell_type": "code",
   "execution_count": 17,
   "id": "a024d984",
   "metadata": {},
   "outputs": [
    {
     "data": {
      "text/plain": [
       "{'messages': [HumanMessage(content='I WANT TO ATTACK THE MONSTER!', additional_kwargs={}, response_metadata={}, id='1a876e76-ff84-429e-9f08-76189b9eb9a1'),\n",
       "  AIMessage(content='', additional_kwargs={'reasoning_content': 'The user says \"I WANT TO ATTACK THE MONSTER!\" This is a command to attack. According to the tools, we have an \"attack\" tool. The user wants to attack the monster. So we should call the attack tool. No arguments needed.', 'tool_calls': [{'id': 'fc_e9f47e43-a550-48a3-bc2c-2385524eea78', 'function': {'arguments': '{}', 'name': 'attack'}, 'type': 'function'}]}, response_metadata={'token_usage': {'completion_tokens': 72, 'prompt_tokens': 202, 'total_tokens': 274, 'completion_time': 0.150512271, 'prompt_time': 0.00817594, 'queue_time': 0.04908678, 'total_time': 0.158688211}, 'model_name': 'openai/gpt-oss-120b', 'system_fingerprint': 'fp_ed9190d8b7', 'service_tier': 'on_demand', 'finish_reason': 'tool_calls', 'logprobs': None}, id='run--4fb03ab4-f114-4a50-bb66-0e3e2d73aa8c-0', tool_calls=[{'name': 'attack', 'args': {}, 'id': 'fc_e9f47e43-a550-48a3-bc2c-2385524eea78', 'type': 'tool_call'}], usage_metadata={'input_tokens': 202, 'output_tokens': 72, 'total_tokens': 274}),\n",
       "  ToolMessage(content='Attacked the monster, monster got weak!', name='attack', id='968b33a9-85b9-4697-b955-2d6e45fcc17d', tool_call_id='fc_e9f47e43-a550-48a3-bc2c-2385524eea78'),\n",
       "  AIMessage(content='You lunge forward and strike the monster with all your might. Your attack lands solidly, and the creature staggers, looking noticeably weaker. What will you do next?', additional_kwargs={'reasoning_content': 'The user wants to attack the monster. The tool attack was used. The response from tool says monster got weak. Now we should respond to the user confirming attack. Possibly ask next action.'}, response_metadata={'token_usage': {'completion_tokens': 83, 'prompt_tokens': 230, 'total_tokens': 313, 'completion_time': 0.174692989, 'prompt_time': 0.011048846, 'queue_time': 0.048024124, 'total_time': 0.185741835}, 'model_name': 'openai/gpt-oss-120b', 'system_fingerprint': 'fp_82669fd91d', 'service_tier': 'on_demand', 'finish_reason': 'stop', 'logprobs': None}, id='run--449cca23-85e7-4694-9350-abd55709cb3d-0', usage_metadata={'input_tokens': 230, 'output_tokens': 83, 'total_tokens': 313})]}"
      ]
     },
     "execution_count": 17,
     "metadata": {},
     "output_type": "execute_result"
    }
   ],
   "source": [
    "agent.invoke({\"messages\": \"I WANT TO ATTACK THE MONSTER!\"})"
   ]
  },
  {
   "cell_type": "code",
   "execution_count": 18,
   "id": "7bdf9cc1",
   "metadata": {},
   "outputs": [
    {
     "data": {
      "text/plain": [
       "{'messages': [HumanMessage(content='Monster is attacking help!', additional_kwargs={}, response_metadata={}, id='28e3769d-c167-4340-813e-e8818905b222'),\n",
       "  AIMessage(content='', additional_kwargs={'reasoning_content': 'The user says \"Monster is attacking help!\" They are presumably in a scenario where they need assistance. According to the system, we have tools: attack, defend, heal, run_away. We need to choose appropriate response. Likely we want to defend or heal. The user is asking for help; maybe we should defend against monster. So we could call defend. The tool expects no parameters. We\\'ll call defend.', 'tool_calls': [{'id': 'fc_0595f9c8-e071-4208-a68d-b03bb97a1e70', 'function': {'arguments': '{}', 'name': 'defend'}, 'type': 'function'}]}, response_metadata={'token_usage': {'completion_tokens': 105, 'prompt_tokens': 198, 'total_tokens': 303, 'completion_time': 0.224693644, 'prompt_time': 0.008395629, 'queue_time': 0.047602891, 'total_time': 0.233089273}, 'model_name': 'openai/gpt-oss-120b', 'system_fingerprint': 'fp_82669fd91d', 'service_tier': 'on_demand', 'finish_reason': 'tool_calls', 'logprobs': None}, id='run--bb1ef00f-4703-46cb-8592-fe997a782ba5-0', tool_calls=[{'name': 'defend', 'args': {}, 'id': 'fc_0595f9c8-e071-4208-a68d-b03bb97a1e70', 'type': 'tool_call'}], usage_metadata={'input_tokens': 198, 'output_tokens': 105, 'total_tokens': 303}),\n",
       "  ToolMessage(content='Defended yourself, monster missed the attack!', name='defend', id='a6aa6253-4bc8-49b3-8111-1c78aef59c5f', tool_call_id='fc_0595f9c8-e071-4208-a68d-b03bb97a1e70'),\n",
       "  AIMessage(content=\"I’ve just blocked the monster’s attack—you're safe for now!  \\n\\nHere are a few things you can do next:\\n\\n1. **Find a safe spot** – Move to a well‑lit, open area where you can see any other threats.\\n2. **Gather weapons or tools** – If you have anything that can be used for defense (a stick, a rock, a flashlight, etc.), grab it.\\n3. **Call for help** – If you have a phone or any way to contact someone nearby (friends, security, emergency services), do it right away.\\n4. **Stay calm and observe** – Notice the monster’s size, speed, and any weak points. Staying calm helps you think clearly.\\n5. **Plan an escape route** – Identify the nearest exit or a place you can hide if the monster comes back.\\n\\nIf you can give me more details about where you are or what the monster looks like, I can suggest more specific tactics. Stay safe!\", additional_kwargs={'reasoning_content': 'The user says \"Monster is attacking help!\" They likely need assistance. The assistant used defend tool, which is appropriate. Now respond to user, offering help, maybe suggest actions.'}, response_metadata={'token_usage': {'completion_tokens': 246, 'prompt_tokens': 228, 'total_tokens': 474, 'completion_time': 0.496712437, 'prompt_time': 0.011272065, 'queue_time': 0.048243165, 'total_time': 0.507984502}, 'model_name': 'openai/gpt-oss-120b', 'system_fingerprint': 'fp_82669fd91d', 'service_tier': 'on_demand', 'finish_reason': 'stop', 'logprobs': None}, id='run--1cdca277-6624-482f-8539-9ad88e064630-0', usage_metadata={'input_tokens': 228, 'output_tokens': 246, 'total_tokens': 474})]}"
      ]
     },
     "execution_count": 18,
     "metadata": {},
     "output_type": "execute_result"
    }
   ],
   "source": [
    "agent.invoke({\"messages\": \"Monster is attacking help!\"})"
   ]
  },
  {
   "cell_type": "code",
   "execution_count": 19,
   "id": "720a50ba",
   "metadata": {},
   "outputs": [
    {
     "data": {
      "text/plain": [
       "{'messages': [HumanMessage(content='I am hurt, need to heal!', additional_kwargs={}, response_metadata={}, id='3446e558-afbf-464b-a87b-876aa39fbdb6'),\n",
       "  AIMessage(content='', additional_kwargs={'reasoning_content': 'The user says \"I am hurt, need to heal!\" They are expressing need for healing. According to the toolset, we have a \"heal\" function to show positive feelings. So we should call heal. Probably no parameters. Then respond.', 'tool_calls': [{'id': 'fc_1ee4ab55-02d7-4a78-93d0-5b45db8f337e', 'function': {'arguments': '{\"\":{}}', 'name': 'heal'}, 'type': 'function'}]}, response_metadata={'token_usage': {'completion_tokens': 75, 'prompt_tokens': 201, 'total_tokens': 276, 'completion_time': 0.150512024, 'prompt_time': 0.007627018, 'queue_time': 0.054434292, 'total_time': 0.158139042}, 'model_name': 'openai/gpt-oss-120b', 'system_fingerprint': 'fp_3a688838c3', 'service_tier': 'on_demand', 'finish_reason': 'tool_calls', 'logprobs': None}, id='run--2ea68c1b-4a18-4b23-9363-92122505d4fc-0', tool_calls=[{'name': 'heal', 'args': {'': {}}, 'id': 'fc_1ee4ab55-02d7-4a78-93d0-5b45db8f337e', 'type': 'tool_call'}], usage_metadata={'input_tokens': 201, 'output_tokens': 75, 'total_tokens': 276}),\n",
       "  ToolMessage(content='Healed yourself, you feel stronger!', name='heal', id='781c75ee-09df-483b-908a-6913c00b018e', tool_call_id='fc_1ee4ab55-02d7-4a78-93d0-5b45db8f337e'),\n",
       "  AIMessage(content=\"I'm glad you’ve taken a step toward feeling better. Remember to be gentle with yourself, give yourself the time you need to rest, and reach out for support if you need it. If there’s anything specific you’d like to talk about or any way I can help, just let me know. Take care!\", additional_kwargs={'reasoning_content': 'The user says \"I am hurt, need to heal!\" The assistant used heal function. Now respond empathetically confirming healing.'}, response_metadata={'token_usage': {'completion_tokens': 98, 'prompt_tokens': 232, 'total_tokens': 330, 'completion_time': 0.198691372, 'prompt_time': 0.009509897, 'queue_time': 0.048218923, 'total_time': 0.208201269}, 'model_name': 'openai/gpt-oss-120b', 'system_fingerprint': 'fp_3a688838c3', 'service_tier': 'on_demand', 'finish_reason': 'stop', 'logprobs': None}, id='run--4681a023-2b5b-42aa-9818-578c2f06be3f-0', usage_metadata={'input_tokens': 232, 'output_tokens': 98, 'total_tokens': 330})]}"
      ]
     },
     "execution_count": 19,
     "metadata": {},
     "output_type": "execute_result"
    }
   ],
   "source": [
    "agent.invoke({\"messages\": \"I am hurt, need to heal!\"})"
   ]
  },
  {
   "cell_type": "code",
   "execution_count": 22,
   "id": "da826ad0",
   "metadata": {},
   "outputs": [
    {
     "data": {
      "text/plain": [
       "{'messages': [HumanMessage(content='The monster is too strong, I want to leave!', additional_kwargs={}, response_metadata={}, id='e6d9af5d-abc9-4525-880f-1dba1b6302b3'),\n",
       "  AIMessage(content='', additional_kwargs={'reasoning_content': 'The user says \"The monster is too strong, I want to leave!\" This is a roleplay scenario. The user wants to run away. According to the tool definitions, we have a tool for \"run_away\" to show fearful feelings. So we should call run_away. Probably also respond with text acknowledging. Use the tool.', 'tool_calls': [{'id': 'fc_523ed4e2-95d4-4567-adc7-40c7123b55b6', 'function': {'arguments': '{\"\":{}}', 'name': 'run_away'}, 'type': 'function'}]}, response_metadata={'token_usage': {'completion_tokens': 95, 'prompt_tokens': 204, 'total_tokens': 299, 'completion_time': 0.202245973, 'prompt_time': 0.011155519, 'queue_time': 0.05244946, 'total_time': 0.213401492}, 'model_name': 'openai/gpt-oss-120b', 'system_fingerprint': 'fp_ed9190d8b7', 'service_tier': 'on_demand', 'finish_reason': 'tool_calls', 'logprobs': None}, id='run--1a994176-8a71-46ac-b126-537b8188db75-0', tool_calls=[{'name': 'run_away', 'args': {'': {}}, 'id': 'fc_523ed4e2-95d4-4567-adc7-40c7123b55b6', 'type': 'tool_call'}], usage_metadata={'input_tokens': 204, 'output_tokens': 95, 'total_tokens': 299}),\n",
       "  ToolMessage(content='Ran away from the monster', name='run_away', id='a2defe36-2d4e-4c14-9180-aad68d140880', tool_call_id='fc_523ed4e2-95d4-4567-adc7-40c7123b55b6'),\n",
       "  AIMessage(content='You’ve turned away from the monster and escaped safely. Take a moment to catch your breath—sometimes retreat is the smartest move. If you need help finding a new path or dealing with the monster later, just let me know!', additional_kwargs={'reasoning_content': 'User says: \"The monster is too strong, I want to leave!\" They want to run away. We already invoked run_away. Should respond confirming they have left.'}, response_metadata={'token_usage': {'completion_tokens': 91, 'prompt_tokens': 235, 'total_tokens': 326, 'completion_time': 0.180530637, 'prompt_time': 0.010728498, 'queue_time': 0.047582082, 'total_time': 0.191259135}, 'model_name': 'openai/gpt-oss-120b', 'system_fingerprint': 'fp_3a688838c3', 'service_tier': 'on_demand', 'finish_reason': 'stop', 'logprobs': None}, id='run--12a63a73-ce8c-4ba4-9095-6c6c20764a79-0', usage_metadata={'input_tokens': 235, 'output_tokens': 91, 'total_tokens': 326})]}"
      ]
     },
     "execution_count": 22,
     "metadata": {},
     "output_type": "execute_result"
    }
   ],
   "source": [
    "agent.invoke({\"messages\": \"The monster is too strong, I want to leave!\"})"
   ]
  }
 ],
 "metadata": {
  "kernelspec": {
   "display_name": ".venv",
   "language": "python",
   "name": "python3"
  },
  "language_info": {
   "codemirror_mode": {
    "name": "ipython",
    "version": 3
   },
   "file_extension": ".py",
   "mimetype": "text/x-python",
   "name": "python",
   "nbconvert_exporter": "python",
   "pygments_lexer": "ipython3",
   "version": "3.9.6"
  }
 },
 "nbformat": 4,
 "nbformat_minor": 5
}
