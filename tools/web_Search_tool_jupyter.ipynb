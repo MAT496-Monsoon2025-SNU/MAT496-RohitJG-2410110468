{
 "cells": [
  {
   "cell_type": "code",
   "execution_count": 1,
   "id": "2f4f0f4e",
   "metadata": {},
   "outputs": [
    {
     "name": "stderr",
     "output_type": "stream",
     "text": [
      "/Users/rohitjg/Desktop/code/MAT496/.venv/lib/python3.9/site-packages/urllib3/__init__.py:35: NotOpenSSLWarning: urllib3 v2 only supports OpenSSL 1.1.1+, currently the 'ssl' module is compiled with 'LibreSSL 2.8.3'. See: https://github.com/urllib3/urllib3/issues/3020\n",
      "  warnings.warn(\n"
     ]
    },
    {
     "data": {
      "text/plain": [
       "True"
      ]
     },
     "execution_count": 1,
     "metadata": {},
     "output_type": "execute_result"
    }
   ],
   "source": [
    "from dotenv import load_dotenv\n",
    "from langchain.chat_models import init_chat_model\n",
    "from langchain_core.messages import HumanMessage, SystemMessage\n",
    "from langchain_core.tools import tool\n",
    "from langchain_community.utilities import GoogleSerperAPIWrapper\n",
    "from langchain.agents import initialize_agent, Tool\n",
    "from langchain.agents import AgentType\n",
    "load_dotenv()\n"
   ]
  },
  {
   "cell_type": "code",
   "execution_count": 2,
   "id": "a2f6a88e",
   "metadata": {},
   "outputs": [],
   "source": [
    "\n",
    "llm = init_chat_model(\"llama-3.3-70b-versatile\", model_provider=\"groq\")\n",
    "\n",
    "search = GoogleSerperAPIWrapper()\n",
    "tools = [\n",
    "    Tool(\n",
    "        name=\"Intermediate Answer\",\n",
    "        func=lambda q: search.run(q),\n",
    "        description=\"useful for when you need to ask with search\"\n",
    "    )\n",
    "]\n"
   ]
  },
  {
   "cell_type": "code",
   "execution_count": 3,
   "id": "486993c4",
   "metadata": {},
   "outputs": [],
   "source": [
    "\n",
    "def main():\n",
    "    query = input(\"Please enter your search query: \")\n",
    "    self_ask_with_search = initialize_agent(\n",
    "        tools,\n",
    "        llm,\n",
    "        agent=AgentType.ZERO_SHOT_REACT_DESCRIPTION,\n",
    "        verbose=True,\n",
    "        handle_parsing_errors=True\n",
    "    ) \n",
    "    self_ask_with_search.run(query)\n"
   ]
  },
  {
   "cell_type": "code",
   "execution_count": 4,
   "id": "d3395837",
   "metadata": {},
   "outputs": [
    {
     "name": "stderr",
     "output_type": "stream",
     "text": [
      "/var/folders/wt/cx3jfjrx09gbzv39_r264my80000gn/T/ipykernel_49915/2916031189.py:3: LangChainDeprecationWarning: LangChain agents will continue to be supported, but it is recommended for new use cases to be built with LangGraph. LangGraph offers a more flexible and full-featured framework for building agents, including support for tool-calling, persistence of state, and human-in-the-loop workflows. For details, refer to the `LangGraph documentation <https://langchain-ai.github.io/langgraph/>`_ as well as guides for `Migrating from AgentExecutor <https://python.langchain.com/docs/how_to/migrate_agent/>`_ and LangGraph's `Pre-built ReAct agent <https://langchain-ai.github.io/langgraph/how-tos/create-react-agent/>`_.\n",
      "  self_ask_with_search = initialize_agent(\n",
      "/var/folders/wt/cx3jfjrx09gbzv39_r264my80000gn/T/ipykernel_49915/2916031189.py:10: LangChainDeprecationWarning: The method `Chain.run` was deprecated in langchain 0.1.0 and will be removed in 1.0. Use :meth:`~invoke` instead.\n",
      "  self_ask_with_search.run(query)\n"
     ]
    },
    {
     "name": "stdout",
     "output_type": "stream",
     "text": [
      "\n",
      "\n",
      "\u001b[1m> Entering new AgentExecutor chain...\u001b[0m\n",
      "\u001b[32;1m\u001b[1;3mTo find the current weather in Delhi, I need to access up-to-date information. \n",
      "\n",
      "Action: Intermediate Answer\n",
      "Action Input: current weather in Delhi\u001b[0m\n",
      "Observation: \u001b[36;1m\u001b[1;3mDelhi, Delhi · Current Weather. 12:30 PM. 91°F. Hazy sunshine. RealFeel® 99°. Hot. RealFeel Guide. Hot. 90° to 100°. Caution advised. Hourly Weather-Delhi, NY. As of 4:58 pm EDT. Monday, September 22. 5 pm. 71°. 2%. Mostly Cloudy. Feels Like71°. WindSSW 10 mph. Humidity63%. UV Index1 of 11. 10-Day Weather Forecast ; Today. 9/23 · 78°. Hazy sunshine. Night: Clear. 1% ; Wed. 9/24 · 78°. Hazy sunshine. Clear. 1% ; Thu. 9/25 · 78°. Hazy sunshine. Clear. 0%. Weather Today in Block 3, Delhi, India. Feels Like92°. 6:10 am. 6:16 pm. High / Low. 96°/78°. Wind. 5 mph. Humidity. 65%. Dew Point. 72°. Pressure. 29.72 in. Night Sky · TodayHourly14 DaysPastClimate. Currently: 92 °F. Sunny. (Weather station: New Delhi / Safdarjung, India). See more current weather. ×. Advertising ... Hour by hour forecast · 09:30. ,. Sunny. Sunny. Sunny. 32° 89°. ,. 0%chance of precipitation · 10:30. ,. Sunny. Sunny. Sunny. 34° 93°. ,. 0%chance of ... Partly cloudy. High 97F. Winds WNW at 10 to 15 mph. icon. Tonight 09/23. 2 % / 0 in. Clear skies. Low 79F. Current weather condition is Mist with real-time temperature (25°C), humidity 89%, wind 6.1km/h, pressure (1006mb), UV (0), visibility (4km) in Delhi. Delhi · India Tue, 23/09 10:43 am. Weather Delhi. now. 33°. AQI 80 Satisfactory. 90 Min. Weather. sunny. 11:00 am. 35. °. sunny 80 12:00 pm. 36. Conditions, Comfort, Precipitation. Time, Temp, Weather, Feels Like, Wind, Humidity, Chance, Amount. 1:00 pm. Tue, Sep 23, 96 °F, Sunny.\u001b[0m\n",
      "Thought:\u001b[32;1m\u001b[1;3mIt appears that I have obtained the current weather conditions in Delhi from the Intermediate Answer tool. The current temperature is around 92°F (33°C) with sunny conditions and a humidity of 65%. The wind speed is 5 mph, and the dew point is 72°. The chance of precipitation is 0% for the next few hours.\n",
      "\n",
      "Action: None\n",
      "Action Input: None\u001b[0m\n",
      "Observation: None is not a valid tool, try one of [Intermediate Answer].\n",
      "Thought:\u001b[32;1m\u001b[1;3mI now know the final answer\n",
      "Final Answer: The current weather in Delhi is around 92°F (33°C) with sunny conditions, a humidity of 65%, and a wind speed of 5 mph. The chance of precipitation is 0% for the next few hours.\u001b[0m\n",
      "\n",
      "\u001b[1m> Finished chain.\u001b[0m\n"
     ]
    }
   ],
   "source": [
    "main()"
   ]
  }
 ],
 "metadata": {
  "kernelspec": {
   "display_name": ".venv",
   "language": "python",
   "name": "python3"
  },
  "language_info": {
   "codemirror_mode": {
    "name": "ipython",
    "version": 3
   },
   "file_extension": ".py",
   "mimetype": "text/x-python",
   "name": "python",
   "nbconvert_exporter": "python",
   "pygments_lexer": "ipython3",
   "version": "3.9.6"
  }
 },
 "nbformat": 4,
 "nbformat_minor": 5
}
