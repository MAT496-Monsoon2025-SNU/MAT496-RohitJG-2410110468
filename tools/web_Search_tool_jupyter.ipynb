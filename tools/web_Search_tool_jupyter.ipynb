{
 "cells": [
  {
   "cell_type": "code",
   "execution_count": 1,
   "id": "2f4f0f4e",
   "metadata": {},
   "outputs": [
    {
     "name": "stderr",
     "output_type": "stream",
     "text": [
      "/Users/rohitjg/Desktop/code/MAT496/.venv/lib/python3.9/site-packages/urllib3/__init__.py:35: NotOpenSSLWarning: urllib3 v2 only supports OpenSSL 1.1.1+, currently the 'ssl' module is compiled with 'LibreSSL 2.8.3'. See: https://github.com/urllib3/urllib3/issues/3020\n",
      "  warnings.warn(\n"
     ]
    },
    {
     "data": {
      "text/plain": [
       "True"
      ]
     },
     "execution_count": 1,
     "metadata": {},
     "output_type": "execute_result"
    }
   ],
   "source": [
    "from dotenv import load_dotenv\n",
    "from langchain.chat_models import init_chat_model\n",
    "from langchain_core.messages import HumanMessage, SystemMessage\n",
    "from langchain_core.tools import tool\n",
    "from langchain_community.utilities import GoogleSerperAPIWrapper\n",
    "from langchain.agents import initialize_agent, Tool\n",
    "from langchain.agents import AgentType\n",
    "load_dotenv()\n"
   ]
  },
  {
   "cell_type": "code",
   "execution_count": 2,
   "id": "a2f6a88e",
   "metadata": {},
   "outputs": [],
   "source": [
    "\n",
    "llm = init_chat_model(\"llama-3.3-70b-versatile\", model_provider=\"groq\")\n",
    "\n",
    "search = GoogleSerperAPIWrapper()\n",
    "tools = [\n",
    "    Tool(\n",
    "        name=\"Intermediate Answer\",\n",
    "        func=lambda q: search.run(q),\n",
    "        description=\"useful for when you need to ask with search\"\n",
    "    )\n",
    "]\n"
   ]
  },
  {
   "cell_type": "code",
   "execution_count": 3,
   "id": "486993c4",
   "metadata": {},
   "outputs": [],
   "source": [
    "\n",
    "def main():\n",
    "    query = input(\"Please enter your search query: \")\n",
    "    self_ask_with_search = initialize_agent(\n",
    "        tools,\n",
    "        llm,\n",
    "        agent=AgentType.ZERO_SHOT_REACT_DESCRIPTION,\n",
    "        verbose=True,\n",
    "        handle_parsing_errors=True\n",
    "    ) \n",
    "    self_ask_with_search.run(query)\n"
   ]
  },
  {
   "cell_type": "code",
   "execution_count": 5,
   "id": "d3395837",
   "metadata": {},
   "outputs": [
    {
     "name": "stdout",
     "output_type": "stream",
     "text": [
      "\n",
      "\n",
      "\u001b[1m> Entering new AgentExecutor chain...\u001b[0m\n",
      "\u001b[32;1m\u001b[1;3mTo find the current weather in Delhi, I need to access real-time weather data. \n",
      "\n",
      "Action: Intermediate Answer\n",
      "Action Input: current weather in Delhi\u001b[0m\n",
      "Observation: \u001b[36;1m\u001b[1;3mDelhi, Delhi · Current Weather. 12:30 PM. 91°F. Hazy sunshine. RealFeel® 99°. Hot. RealFeel Guide. Hot. 90° to 100°. Caution advised. Night Sky · TodayHourly14 DaysPastClimate. Currently: 92 °F. Sunny. (Weather station: New Delhi / Safdarjung, India). See more current weather. ×. Advertising ... Weather Today in Block 3, Delhi, India. Feels Like92°. 6:10 am. 6:16 pm. High / Low. 96°/78°. Wind. 5 mph. Humidity. 65%. Dew Point. 72°. Pressure. 29.72 in. Hour by hour forecast · 09:30. ,. Sunny. Sunny. Sunny. 32° 89°. ,. 0%chance of precipitation · 10:30. ,. Sunny. Sunny. Sunny. 34° 93°. ,. 0%chance of ... RealFeel Shade™87°. WindWNW 9 mph. Air QualityUnhealthy. Max UV Index4.9 (Moderate). Wind Gusts18 mph. Humidity61%. Indoor Humidity61% (Very Humid). Current weather condition is Mist with real-time temperature (25°C), humidity 89%, wind 6.1km/h, pressure (1006mb), UV (0), visibility (4km) in Delhi. Hourly Weather-Rajpath Area, Delhi. As of 04:26 IST. Tuesday, 23 September. 04:30. 28°. 1%. Cloudy. Feels Like31°. WindW 6 km/h. Humidity71%. Delhi · India Mon, 22/09 09:46 pm. Weather Delhi. now. 31°. AQI 110 Moderately polluted. 90 Min. Weather. clear. 10:00 pm. 30. °. clear sky 100 11:00 pm. Elev 206 ft, 28.61 °N, 77.21 °E. New Delhi, Delhi, India 10-Day Weather Forecaststar_ratehome. icon 92 °F Chander Nagar Station|Report. Report Station. Today's Weather - New Delhi, IND. September 23, 2025 8:12 AM. Indira Gandhi Intl Arpt Delhi. 81°. Feels Like 84°. Hi 95°F Lo 77°F. Sunny. Live Radar.\u001b[0m\n",
      "Thought:\u001b[32;1m\u001b[1;3mI now know the current weather in Delhi. \n",
      "\n",
      "The current weather in Delhi is mostly sunny with a temperature of 92°F (33°C), feels like 99°F (37°C), and a humidity of 65%. The wind is blowing at 5 mph, and the dew point is 72°F (22°C). The air quality is unhealthy, and the UV index is moderate. The current weather condition is also described as hazy sunshine and mist in some areas, with a temperature of 25°C, humidity of 89%, and wind of 6.1 km/h.\n",
      "\n",
      "Final Answer: The current weather in Delhi is mostly sunny with a temperature of 92°F (33°C) and a humidity of 65%.\u001b[0m\n",
      "\n",
      "\u001b[1m> Finished chain.\u001b[0m\n"
     ]
    }
   ],
   "source": [
    "main()"
   ]
  },
  {
   "cell_type": "code",
   "execution_count": 6,
   "id": "a5bb03b5",
   "metadata": {},
   "outputs": [
    {
     "name": "stdout",
     "output_type": "stream",
     "text": [
      "\n",
      "\n",
      "\u001b[1m> Entering new AgentExecutor chain...\u001b[0m\n",
      "\u001b[32;1m\u001b[1;3mTo find out who the current Prime Minister of India is, I need to access the most recent and reliable information available.\n",
      "\n",
      "Action: Intermediate Answer\n",
      "Action Input: current Prime Minister of India\u001b[0m\n",
      "Observation: \u001b[36;1m\u001b[1;3mNarasimha Rao, Atal Bihari Vajpayee, Manmohan Singh, and Narendra Modi, who is the current prime minister of India, serving since 26 May 2014. He is the ... Narendra Damodardas Modi (born 17 September 1950) is an Indian politician who has served as the prime minister of India since 2014. Shri Narendra Modi was sworn-in as India's Prime Minister for the third time on 9th June 2024, following another decisive victory in the 2024 Parliamentary ... Narendra Modi. 49399920 likes · 2726013 talking about this. Prime Minister of India. Shri Narendra Modi was sworn-in as India's Prime Minister for the third time on 9th June 2024, following another decisive victory in the 2024 Parliamentary ... Shri Narendra Modi is the current and the fourth longest-serving Prime Minister of India. He served as the Chief Minister of Gujarat for 14 years and was ... 97M followers · 0 following · 1012 posts · @narendramodi: “Prime Minister of India ” Who's Who: Prime Minister, Shri Narendra Modi, All important policy issues and all other portfolios not allocated to any Minister. Narendra Modi is the 14th prime minister of India. His Hindu nationalist policies and some of his economic reforms have proved controversial ... List of all Prime Ministers of India till 2025: Narendra Modi is the current and 14th Prime Minister of India who assumed office on 10 June 2024 ...\u001b[0m\n",
      "Thought:\u001b[32;1m\u001b[1;3mI now know the final answer\n",
      "\n",
      "Final Answer: Narendra Modi\u001b[0m\n",
      "\n",
      "\u001b[1m> Finished chain.\u001b[0m\n"
     ]
    }
   ],
   "source": [
    "main()"
   ]
  }
 ],
 "metadata": {
  "kernelspec": {
   "display_name": ".venv",
   "language": "python",
   "name": "python3"
  },
  "language_info": {
   "codemirror_mode": {
    "name": "ipython",
    "version": 3
   },
   "file_extension": ".py",
   "mimetype": "text/x-python",
   "name": "python",
   "nbconvert_exporter": "python",
   "pygments_lexer": "ipython3",
   "version": "3.9.6"
  }
 },
 "nbformat": 4,
 "nbformat_minor": 5
}
